{
 "cells": [
  {
   "cell_type": "markdown",
   "id": "2d7b122b-ecee-4f98-891b-c681ec41c152",
   "metadata": {
    "execution": {
     "iopub.execute_input": "2023-06-10T09:32:36.464387Z",
     "iopub.status.busy": "2023-06-10T09:32:36.463685Z",
     "iopub.status.idle": "2023-06-10T09:32:36.479045Z",
     "shell.execute_reply": "2023-06-10T09:32:36.476276Z",
     "shell.execute_reply.started": "2023-06-10T09:32:36.464325Z"
    }
   },
   "source": [
    "# Lectura de tablas HTML\n",
    "Pandas puede leer tablas HTML de cualquier URL con el método `pd_read_html()`.\n",
    "\n",
    "* Con el parámetro `match='string|regex'` buscamos solo las tablas que contienen la cadena o expresión regular asignada a ese parámetro. (Busca en el título, en las columnas o en el contenido).\n",
    "* También podemos usar el parámetro `attrs` para buscar por atributos html.\n",
    "* Si no especificamos ningún parámetro se cargan todas las tablas en una lista."
   ]
  },
  {
   "cell_type": "code",
   "execution_count": 1,
   "id": "df83d9a0-fb64-41c7-bc6b-e8d6e64df044",
   "metadata": {
    "execution": {
     "iopub.execute_input": "2023-06-17T05:44:45.597676Z",
     "iopub.status.busy": "2023-06-17T05:44:45.596937Z",
     "iopub.status.idle": "2023-06-17T05:44:45.612730Z",
     "shell.execute_reply": "2023-06-17T05:44:45.611720Z",
     "shell.execute_reply.started": "2023-06-17T05:44:45.597633Z"
    }
   },
   "outputs": [],
   "source": [
    "import pandas as pd"
   ]
  },
  {
   "cell_type": "code",
   "execution_count": 2,
   "id": "38b3341e-aaaf-4909-ad16-9924dbb5fa0c",
   "metadata": {
    "execution": {
     "iopub.execute_input": "2023-06-17T05:44:45.615204Z",
     "iopub.status.busy": "2023-06-17T05:44:45.614868Z",
     "iopub.status.idle": "2023-06-17T05:44:45.620733Z",
     "shell.execute_reply": "2023-06-17T05:44:45.619471Z",
     "shell.execute_reply.started": "2023-06-17T05:44:45.615175Z"
    }
   },
   "outputs": [],
   "source": [
    "URL = \"https://en.wikipedia.org/wiki/Comparison_of_Linux_distributions\""
   ]
  },
  {
   "cell_type": "code",
   "execution_count": 3,
   "id": "d619793f-cb68-4fd2-89e6-37d79c6c5667",
   "metadata": {
    "execution": {
     "iopub.execute_input": "2023-06-17T05:44:45.622323Z",
     "iopub.status.busy": "2023-06-17T05:44:45.621953Z",
     "iopub.status.idle": "2023-06-17T05:44:46.355325Z",
     "shell.execute_reply": "2023-06-17T05:44:46.354237Z",
     "shell.execute_reply.started": "2023-06-17T05:44:45.622287Z"
    }
   },
   "outputs": [],
   "source": [
    "all_tables = pd.read_html(URL)"
   ]
  },
  {
   "cell_type": "code",
   "execution_count": 4,
   "id": "c6f08511-c013-4e68-8303-346a4a82a8ad",
   "metadata": {
    "execution": {
     "iopub.execute_input": "2023-06-17T05:44:46.364669Z",
     "iopub.status.busy": "2023-06-17T05:44:46.364031Z",
     "iopub.status.idle": "2023-06-17T05:44:46.377654Z",
     "shell.execute_reply": "2023-06-17T05:44:46.375986Z",
     "shell.execute_reply.started": "2023-06-17T05:44:46.364631Z"
    }
   },
   "outputs": [
    {
     "data": {
      "text/plain": [
       "16"
      ]
     },
     "execution_count": 4,
     "metadata": {},
     "output_type": "execute_result"
    }
   ],
   "source": [
    "len(all_tables)"
   ]
  },
  {
   "cell_type": "code",
   "execution_count": 5,
   "id": "cc856694-c341-47b2-ba5d-b1b3fc8a2e78",
   "metadata": {
    "execution": {
     "iopub.execute_input": "2023-06-17T05:44:46.379574Z",
     "iopub.status.busy": "2023-06-17T05:44:46.379164Z",
     "iopub.status.idle": "2023-06-17T05:44:46.401524Z",
     "shell.execute_reply": "2023-06-17T05:44:46.400403Z",
     "shell.execute_reply.started": "2023-06-17T05:44:46.379541Z"
    }
   },
   "outputs": [
    {
     "data": {
      "text/html": [
       "<div>\n",
       "<style scoped>\n",
       "    .dataframe tbody tr th:only-of-type {\n",
       "        vertical-align: middle;\n",
       "    }\n",
       "\n",
       "    .dataframe tbody tr th {\n",
       "        vertical-align: top;\n",
       "    }\n",
       "\n",
       "    .dataframe thead th {\n",
       "        text-align: right;\n",
       "    }\n",
       "</style>\n",
       "<table border=\"1\" class=\"dataframe\">\n",
       "  <thead>\n",
       "    <tr style=\"text-align: right;\">\n",
       "      <th></th>\n",
       "      <th>Distribution</th>\n",
       "      <th>Founder</th>\n",
       "      <th>Maintainer</th>\n",
       "      <th>Initial release year</th>\n",
       "      <th>Current stable version</th>\n",
       "      <th>Security updates (years)</th>\n",
       "      <th>Release date</th>\n",
       "      <th>System distribution commitment</th>\n",
       "      <th>Forked from</th>\n",
       "      <th>Target audience</th>\n",
       "      <th>Cost</th>\n",
       "      <th>Status</th>\n",
       "    </tr>\n",
       "  </thead>\n",
       "  <tbody>\n",
       "    <tr>\n",
       "      <th>0</th>\n",
       "      <td>AlmaLinux</td>\n",
       "      <td>AlmaLinux Foundation</td>\n",
       "      <td>AlmaLinux Foundation</td>\n",
       "      <td>2021</td>\n",
       "      <td>9.2[2]</td>\n",
       "      <td>10 years[3]</td>\n",
       "      <td>2023-05-10</td>\n",
       "      <td>X</td>\n",
       "      <td>Red Hat Enterprise Linux (RHEL)</td>\n",
       "      <td>server, workstation</td>\n",
       "      <td>NaN</td>\n",
       "      <td>Active</td>\n",
       "    </tr>\n",
       "    <tr>\n",
       "      <th>1</th>\n",
       "      <td>Alpine Linux</td>\n",
       "      <td>Alpine Linux Team</td>\n",
       "      <td>Alpine Linux Team</td>\n",
       "      <td>2006</td>\n",
       "      <td>3.18.2[4]</td>\n",
       "      <td>?</td>\n",
       "      <td>2023-06-14</td>\n",
       "      <td>X</td>\n",
       "      <td>LEAF Project</td>\n",
       "      <td>security, lightweight, general</td>\n",
       "      <td>NaN</td>\n",
       "      <td>Active</td>\n",
       "    </tr>\n",
       "    <tr>\n",
       "      <th>2</th>\n",
       "      <td>ALT Linux</td>\n",
       "      <td>ALT Linux Team</td>\n",
       "      <td>ALT Linux Team, ALT Linux LLC</td>\n",
       "      <td>2001</td>\n",
       "      <td>10.1[5]</td>\n",
       "      <td>?</td>\n",
       "      <td>2023-01-12</td>\n",
       "      <td>X</td>\n",
       "      <td>Mandrake Linux</td>\n",
       "      <td>general, school</td>\n",
       "      <td>NaN</td>\n",
       "      <td>Active</td>\n",
       "    </tr>\n",
       "    <tr>\n",
       "      <th>3</th>\n",
       "      <td>antiX</td>\n",
       "      <td>Anticapitalista</td>\n",
       "      <td>Anticapitalista</td>\n",
       "      <td>2007</td>\n",
       "      <td>22[6]</td>\n",
       "      <td>?</td>\n",
       "      <td>2022-10-19</td>\n",
       "      <td>X</td>\n",
       "      <td>Debian, MEPIS</td>\n",
       "      <td>old computers</td>\n",
       "      <td>NaN</td>\n",
       "      <td>Active</td>\n",
       "    </tr>\n",
       "    <tr>\n",
       "      <th>4</th>\n",
       "      <td>ArchBang</td>\n",
       "      <td>Willensky Aristide</td>\n",
       "      <td>Stan McLaren</td>\n",
       "      <td>2011</td>\n",
       "      <td>Rolling</td>\n",
       "      <td>Rolling</td>\n",
       "      <td>?</td>\n",
       "      <td>X</td>\n",
       "      <td>Arch Linux (UKM Edition)</td>\n",
       "      <td>general</td>\n",
       "      <td>NaN</td>\n",
       "      <td>Active</td>\n",
       "    </tr>\n",
       "  </tbody>\n",
       "</table>\n",
       "</div>"
      ],
      "text/plain": [
       "   Distribution               Founder                     Maintainer  \\\n",
       "0     AlmaLinux  AlmaLinux Foundation           AlmaLinux Foundation   \n",
       "1  Alpine Linux     Alpine Linux Team              Alpine Linux Team   \n",
       "2     ALT Linux        ALT Linux Team  ALT Linux Team, ALT Linux LLC   \n",
       "3         antiX       Anticapitalista                Anticapitalista   \n",
       "4      ArchBang    Willensky Aristide                   Stan McLaren   \n",
       "\n",
       "  Initial release year Current stable version Security updates (years)  \\\n",
       "0                 2021                 9.2[2]              10 years[3]   \n",
       "1                 2006              3.18.2[4]                        ?   \n",
       "2                 2001                10.1[5]                        ?   \n",
       "3                 2007                  22[6]                        ?   \n",
       "4                 2011                Rolling                  Rolling   \n",
       "\n",
       "  Release date System distribution commitment  \\\n",
       "0   2023-05-10                              X   \n",
       "1   2023-06-14                              X   \n",
       "2   2023-01-12                              X   \n",
       "3   2022-10-19                              X   \n",
       "4            ?                              X   \n",
       "\n",
       "                       Forked from                 Target audience Cost  \\\n",
       "0  Red Hat Enterprise Linux (RHEL)             server, workstation  NaN   \n",
       "1                     LEAF Project  security, lightweight, general  NaN   \n",
       "2                   Mandrake Linux                 general, school  NaN   \n",
       "3                    Debian, MEPIS                   old computers  NaN   \n",
       "4         Arch Linux (UKM Edition)                         general  NaN   \n",
       "\n",
       "   Status  \n",
       "0  Active  \n",
       "1  Active  \n",
       "2  Active  \n",
       "3  Active  \n",
       "4  Active  "
      ]
     },
     "execution_count": 5,
     "metadata": {},
     "output_type": "execute_result"
    }
   ],
   "source": [
    "all_tables[3].head(5)"
   ]
  },
  {
   "cell_type": "code",
   "execution_count": 6,
   "id": "712f25d0-5d51-49b3-b755-6a7ad526e4a8",
   "metadata": {
    "execution": {
     "iopub.execute_input": "2023-06-17T05:44:46.404969Z",
     "iopub.status.busy": "2023-06-17T05:44:46.403134Z",
     "iopub.status.idle": "2023-06-17T05:44:46.896884Z",
     "shell.execute_reply": "2023-06-17T05:44:46.895843Z",
     "shell.execute_reply.started": "2023-06-17T05:44:46.404904Z"
    }
   },
   "outputs": [],
   "source": [
    "linux_distribution = pd.read_html(URL, match=\"Initial release year\")[0]"
   ]
  },
  {
   "cell_type": "code",
   "execution_count": 7,
   "id": "1c24588d-4cc4-4884-9b8f-41b5e9b4893b",
   "metadata": {
    "execution": {
     "iopub.execute_input": "2023-06-17T05:44:46.901375Z",
     "iopub.status.busy": "2023-06-17T05:44:46.900531Z",
     "iopub.status.idle": "2023-06-17T05:44:46.919998Z",
     "shell.execute_reply": "2023-06-17T05:44:46.918997Z",
     "shell.execute_reply.started": "2023-06-17T05:44:46.901325Z"
    }
   },
   "outputs": [
    {
     "data": {
      "text/html": [
       "<div>\n",
       "<style scoped>\n",
       "    .dataframe tbody tr th:only-of-type {\n",
       "        vertical-align: middle;\n",
       "    }\n",
       "\n",
       "    .dataframe tbody tr th {\n",
       "        vertical-align: top;\n",
       "    }\n",
       "\n",
       "    .dataframe thead th {\n",
       "        text-align: right;\n",
       "    }\n",
       "</style>\n",
       "<table border=\"1\" class=\"dataframe\">\n",
       "  <thead>\n",
       "    <tr style=\"text-align: right;\">\n",
       "      <th></th>\n",
       "      <th>Distribution</th>\n",
       "      <th>Founder</th>\n",
       "      <th>Maintainer</th>\n",
       "      <th>Initial release year</th>\n",
       "      <th>Current stable version</th>\n",
       "      <th>Security updates (years)</th>\n",
       "      <th>Release date</th>\n",
       "      <th>System distribution commitment</th>\n",
       "      <th>Forked from</th>\n",
       "      <th>Target audience</th>\n",
       "      <th>Cost</th>\n",
       "      <th>Status</th>\n",
       "    </tr>\n",
       "  </thead>\n",
       "  <tbody>\n",
       "    <tr>\n",
       "      <th>0</th>\n",
       "      <td>AlmaLinux</td>\n",
       "      <td>AlmaLinux Foundation</td>\n",
       "      <td>AlmaLinux Foundation</td>\n",
       "      <td>2021</td>\n",
       "      <td>9.2[2]</td>\n",
       "      <td>10 years[3]</td>\n",
       "      <td>2023-05-10</td>\n",
       "      <td>X</td>\n",
       "      <td>Red Hat Enterprise Linux (RHEL)</td>\n",
       "      <td>server, workstation</td>\n",
       "      <td>NaN</td>\n",
       "      <td>Active</td>\n",
       "    </tr>\n",
       "    <tr>\n",
       "      <th>1</th>\n",
       "      <td>Alpine Linux</td>\n",
       "      <td>Alpine Linux Team</td>\n",
       "      <td>Alpine Linux Team</td>\n",
       "      <td>2006</td>\n",
       "      <td>3.18.2[4]</td>\n",
       "      <td>?</td>\n",
       "      <td>2023-06-14</td>\n",
       "      <td>X</td>\n",
       "      <td>LEAF Project</td>\n",
       "      <td>security, lightweight, general</td>\n",
       "      <td>NaN</td>\n",
       "      <td>Active</td>\n",
       "    </tr>\n",
       "    <tr>\n",
       "      <th>2</th>\n",
       "      <td>ALT Linux</td>\n",
       "      <td>ALT Linux Team</td>\n",
       "      <td>ALT Linux Team, ALT Linux LLC</td>\n",
       "      <td>2001</td>\n",
       "      <td>10.1[5]</td>\n",
       "      <td>?</td>\n",
       "      <td>2023-01-12</td>\n",
       "      <td>X</td>\n",
       "      <td>Mandrake Linux</td>\n",
       "      <td>general, school</td>\n",
       "      <td>NaN</td>\n",
       "      <td>Active</td>\n",
       "    </tr>\n",
       "    <tr>\n",
       "      <th>3</th>\n",
       "      <td>antiX</td>\n",
       "      <td>Anticapitalista</td>\n",
       "      <td>Anticapitalista</td>\n",
       "      <td>2007</td>\n",
       "      <td>22[6]</td>\n",
       "      <td>?</td>\n",
       "      <td>2022-10-19</td>\n",
       "      <td>X</td>\n",
       "      <td>Debian, MEPIS</td>\n",
       "      <td>old computers</td>\n",
       "      <td>NaN</td>\n",
       "      <td>Active</td>\n",
       "    </tr>\n",
       "    <tr>\n",
       "      <th>4</th>\n",
       "      <td>ArchBang</td>\n",
       "      <td>Willensky Aristide</td>\n",
       "      <td>Stan McLaren</td>\n",
       "      <td>2011</td>\n",
       "      <td>Rolling</td>\n",
       "      <td>Rolling</td>\n",
       "      <td>?</td>\n",
       "      <td>X</td>\n",
       "      <td>Arch Linux (UKM Edition)</td>\n",
       "      <td>general</td>\n",
       "      <td>NaN</td>\n",
       "      <td>Active</td>\n",
       "    </tr>\n",
       "  </tbody>\n",
       "</table>\n",
       "</div>"
      ],
      "text/plain": [
       "   Distribution               Founder                     Maintainer  \\\n",
       "0     AlmaLinux  AlmaLinux Foundation           AlmaLinux Foundation   \n",
       "1  Alpine Linux     Alpine Linux Team              Alpine Linux Team   \n",
       "2     ALT Linux        ALT Linux Team  ALT Linux Team, ALT Linux LLC   \n",
       "3         antiX       Anticapitalista                Anticapitalista   \n",
       "4      ArchBang    Willensky Aristide                   Stan McLaren   \n",
       "\n",
       "  Initial release year Current stable version Security updates (years)  \\\n",
       "0                 2021                 9.2[2]              10 years[3]   \n",
       "1                 2006              3.18.2[4]                        ?   \n",
       "2                 2001                10.1[5]                        ?   \n",
       "3                 2007                  22[6]                        ?   \n",
       "4                 2011                Rolling                  Rolling   \n",
       "\n",
       "  Release date System distribution commitment  \\\n",
       "0   2023-05-10                              X   \n",
       "1   2023-06-14                              X   \n",
       "2   2023-01-12                              X   \n",
       "3   2022-10-19                              X   \n",
       "4            ?                              X   \n",
       "\n",
       "                       Forked from                 Target audience Cost  \\\n",
       "0  Red Hat Enterprise Linux (RHEL)             server, workstation  NaN   \n",
       "1                     LEAF Project  security, lightweight, general  NaN   \n",
       "2                   Mandrake Linux                 general, school  NaN   \n",
       "3                    Debian, MEPIS                   old computers  NaN   \n",
       "4         Arch Linux (UKM Edition)                         general  NaN   \n",
       "\n",
       "   Status  \n",
       "0  Active  \n",
       "1  Active  \n",
       "2  Active  \n",
       "3  Active  \n",
       "4  Active  "
      ]
     },
     "execution_count": 7,
     "metadata": {},
     "output_type": "execute_result"
    }
   ],
   "source": [
    "linux_distribution.head(5)"
   ]
  }
 ],
 "metadata": {
  "kernelspec": {
   "display_name": "Python 3 (ipykernel)",
   "language": "python",
   "name": "python3"
  },
  "language_info": {
   "codemirror_mode": {
    "name": "ipython",
    "version": 3
   },
   "file_extension": ".py",
   "mimetype": "text/x-python",
   "name": "python",
   "nbconvert_exporter": "python",
   "pygments_lexer": "ipython3",
   "version": "3.11.4"
  }
 },
 "nbformat": 4,
 "nbformat_minor": 5
}
