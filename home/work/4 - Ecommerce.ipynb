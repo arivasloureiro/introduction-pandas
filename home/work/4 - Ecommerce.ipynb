{
 "cells": [
  {
   "cell_type": "markdown",
   "id": "714e5718-96d1-461f-b710-452118b97b3c",
   "metadata": {},
   "source": [
    "# Dataset\n",
    "Datos de compras: https://www.kaggle.com/datasets/carrie1/ecommerce-data/code"
   ]
  },
  {
   "cell_type": "code",
   "execution_count": 1,
   "id": "c16b0197-602b-483e-8a98-156b2f89230e",
   "metadata": {
    "execution": {
     "iopub.execute_input": "2023-06-17T05:52:01.824764Z",
     "iopub.status.busy": "2023-06-17T05:52:01.824105Z",
     "iopub.status.idle": "2023-06-17T05:52:01.851993Z",
     "shell.execute_reply": "2023-06-17T05:52:01.848323Z",
     "shell.execute_reply.started": "2023-06-17T05:52:01.824705Z"
    }
   },
   "outputs": [],
   "source": [
    "import pandas as pd"
   ]
  },
  {
   "cell_type": "code",
   "execution_count": 2,
   "id": "4e480d33-15b5-42d9-96a3-0993391cdcfb",
   "metadata": {
    "execution": {
     "iopub.execute_input": "2023-06-17T05:52:01.859423Z",
     "iopub.status.busy": "2023-06-17T05:52:01.858550Z",
     "iopub.status.idle": "2023-06-17T05:52:02.816076Z",
     "shell.execute_reply": "2023-06-17T05:52:02.814443Z",
     "shell.execute_reply.started": "2023-06-17T05:52:01.859344Z"
    }
   },
   "outputs": [],
   "source": [
    "order = pd.read_csv(\"Datasets/ecommerce_data.csv\", encoding=\"iso-8859-1\")\n",
    "customer = pd.read_csv(\"Datasets/ecommerce_customer.csv\")"
   ]
  },
  {
   "cell_type": "code",
   "execution_count": 3,
   "id": "7d2c6966-e127-4378-9404-6e31c015089e",
   "metadata": {
    "execution": {
     "iopub.execute_input": "2023-06-17T05:52:02.817721Z",
     "iopub.status.busy": "2023-06-17T05:52:02.817430Z",
     "iopub.status.idle": "2023-06-17T05:52:02.838014Z",
     "shell.execute_reply": "2023-06-17T05:52:02.837270Z",
     "shell.execute_reply.started": "2023-06-17T05:52:02.817692Z"
    }
   },
   "outputs": [
    {
     "data": {
      "text/html": [
       "<div>\n",
       "<style scoped>\n",
       "    .dataframe tbody tr th:only-of-type {\n",
       "        vertical-align: middle;\n",
       "    }\n",
       "\n",
       "    .dataframe tbody tr th {\n",
       "        vertical-align: top;\n",
       "    }\n",
       "\n",
       "    .dataframe thead th {\n",
       "        text-align: right;\n",
       "    }\n",
       "</style>\n",
       "<table border=\"1\" class=\"dataframe\">\n",
       "  <thead>\n",
       "    <tr style=\"text-align: right;\">\n",
       "      <th></th>\n",
       "      <th>customerID</th>\n",
       "      <th>email</th>\n",
       "      <th>firstname</th>\n",
       "      <th>lastname</th>\n",
       "    </tr>\n",
       "  </thead>\n",
       "  <tbody>\n",
       "    <tr>\n",
       "      <th>0</th>\n",
       "      <td>17850</td>\n",
       "      <td>andrea.fields@raymond.gov</td>\n",
       "      <td>Andrea</td>\n",
       "      <td>Fields</td>\n",
       "    </tr>\n",
       "    <tr>\n",
       "      <th>1</th>\n",
       "      <td>13047</td>\n",
       "      <td>anthony.hernandez@jones.org.br</td>\n",
       "      <td>Anthony</td>\n",
       "      <td>Hernandez</td>\n",
       "    </tr>\n",
       "  </tbody>\n",
       "</table>\n",
       "</div>"
      ],
      "text/plain": [
       "   customerID                           email firstname   lastname\n",
       "0       17850       andrea.fields@raymond.gov    Andrea     Fields\n",
       "1       13047  anthony.hernandez@jones.org.br   Anthony  Hernandez"
      ]
     },
     "execution_count": 3,
     "metadata": {},
     "output_type": "execute_result"
    }
   ],
   "source": [
    "customer.head(2)"
   ]
  },
  {
   "cell_type": "code",
   "execution_count": 4,
   "id": "5a67f6ac-3610-47b3-a599-922d42e16163",
   "metadata": {
    "execution": {
     "iopub.execute_input": "2023-06-17T05:52:02.840075Z",
     "iopub.status.busy": "2023-06-17T05:52:02.839637Z",
     "iopub.status.idle": "2023-06-17T05:52:02.855909Z",
     "shell.execute_reply": "2023-06-17T05:52:02.854730Z",
     "shell.execute_reply.started": "2023-06-17T05:52:02.840033Z"
    }
   },
   "outputs": [
    {
     "data": {
      "text/html": [
       "<div>\n",
       "<style scoped>\n",
       "    .dataframe tbody tr th:only-of-type {\n",
       "        vertical-align: middle;\n",
       "    }\n",
       "\n",
       "    .dataframe tbody tr th {\n",
       "        vertical-align: top;\n",
       "    }\n",
       "\n",
       "    .dataframe thead th {\n",
       "        text-align: right;\n",
       "    }\n",
       "</style>\n",
       "<table border=\"1\" class=\"dataframe\">\n",
       "  <thead>\n",
       "    <tr style=\"text-align: right;\">\n",
       "      <th></th>\n",
       "      <th>InvoiceNo</th>\n",
       "      <th>StockCode</th>\n",
       "      <th>Description</th>\n",
       "      <th>Quantity</th>\n",
       "      <th>InvoiceDate</th>\n",
       "      <th>UnitPrice</th>\n",
       "      <th>CustomerID</th>\n",
       "      <th>Country</th>\n",
       "    </tr>\n",
       "  </thead>\n",
       "  <tbody>\n",
       "    <tr>\n",
       "      <th>0</th>\n",
       "      <td>536365</td>\n",
       "      <td>85123A</td>\n",
       "      <td>WHITE HANGING HEART T-LIGHT HOLDER</td>\n",
       "      <td>6</td>\n",
       "      <td>12/1/2010 8:26</td>\n",
       "      <td>2.550000</td>\n",
       "      <td>17850.000000</td>\n",
       "      <td>United Kingdom</td>\n",
       "    </tr>\n",
       "    <tr>\n",
       "      <th>1</th>\n",
       "      <td>536365</td>\n",
       "      <td>71053</td>\n",
       "      <td>WHITE METAL LANTERN</td>\n",
       "      <td>6</td>\n",
       "      <td>12/1/2010 8:26</td>\n",
       "      <td>3.390000</td>\n",
       "      <td>17850.000000</td>\n",
       "      <td>United Kingdom</td>\n",
       "    </tr>\n",
       "    <tr>\n",
       "      <th>2</th>\n",
       "      <td>536365</td>\n",
       "      <td>84406B</td>\n",
       "      <td>CREAM CUPID HEARTS COAT HANGER</td>\n",
       "      <td>8</td>\n",
       "      <td>12/1/2010 8:26</td>\n",
       "      <td>2.750000</td>\n",
       "      <td>17850.000000</td>\n",
       "      <td>United Kingdom</td>\n",
       "    </tr>\n",
       "    <tr>\n",
       "      <th>3</th>\n",
       "      <td>536365</td>\n",
       "      <td>84029G</td>\n",
       "      <td>KNITTED UNION FLAG HOT WATER BOTTLE</td>\n",
       "      <td>6</td>\n",
       "      <td>12/1/2010 8:26</td>\n",
       "      <td>3.390000</td>\n",
       "      <td>17850.000000</td>\n",
       "      <td>United Kingdom</td>\n",
       "    </tr>\n",
       "    <tr>\n",
       "      <th>4</th>\n",
       "      <td>536365</td>\n",
       "      <td>84029E</td>\n",
       "      <td>RED WOOLLY HOTTIE WHITE HEART.</td>\n",
       "      <td>6</td>\n",
       "      <td>12/1/2010 8:26</td>\n",
       "      <td>3.390000</td>\n",
       "      <td>17850.000000</td>\n",
       "      <td>United Kingdom</td>\n",
       "    </tr>\n",
       "  </tbody>\n",
       "</table>\n",
       "</div>"
      ],
      "text/plain": [
       "  InvoiceNo StockCode                          Description  Quantity  \\\n",
       "0    536365    85123A   WHITE HANGING HEART T-LIGHT HOLDER         6   \n",
       "1    536365     71053                  WHITE METAL LANTERN         6   \n",
       "2    536365    84406B       CREAM CUPID HEARTS COAT HANGER         8   \n",
       "3    536365    84029G  KNITTED UNION FLAG HOT WATER BOTTLE         6   \n",
       "4    536365    84029E       RED WOOLLY HOTTIE WHITE HEART.         6   \n",
       "\n",
       "      InvoiceDate  UnitPrice   CustomerID         Country  \n",
       "0  12/1/2010 8:26   2.550000 17850.000000  United Kingdom  \n",
       "1  12/1/2010 8:26   3.390000 17850.000000  United Kingdom  \n",
       "2  12/1/2010 8:26   2.750000 17850.000000  United Kingdom  \n",
       "3  12/1/2010 8:26   3.390000 17850.000000  United Kingdom  \n",
       "4  12/1/2010 8:26   3.390000 17850.000000  United Kingdom  "
      ]
     },
     "execution_count": 4,
     "metadata": {},
     "output_type": "execute_result"
    }
   ],
   "source": [
    "order.head(5)"
   ]
  },
  {
   "cell_type": "markdown",
   "id": "008328c8-4233-40eb-8483-c05114e71499",
   "metadata": {},
   "source": [
    "# Ejemplo de JOIN\n",
    "En Pandas utilizamos el método merge para hacer JOINs de la misma forma que en SQL."
   ]
  },
  {
   "cell_type": "code",
   "execution_count": 5,
   "id": "1e093339-52e1-48d0-bce4-aae8a913226c",
   "metadata": {
    "execution": {
     "iopub.execute_input": "2023-06-17T05:52:02.857811Z",
     "iopub.status.busy": "2023-06-17T05:52:02.857380Z",
     "iopub.status.idle": "2023-06-17T05:52:03.028599Z",
     "shell.execute_reply": "2023-06-17T05:52:03.026625Z",
     "shell.execute_reply.started": "2023-06-17T05:52:02.857771Z"
    }
   },
   "outputs": [],
   "source": [
    "order = order.merge(customer, left_on=\"CustomerID\", right_on=\"customerID\", how=\"inner\")"
   ]
  },
  {
   "cell_type": "code",
   "execution_count": 6,
   "id": "a6a28a23-f3bd-4722-86cb-c0c2aa7e6372",
   "metadata": {
    "execution": {
     "iopub.execute_input": "2023-06-17T05:52:03.031644Z",
     "iopub.status.busy": "2023-06-17T05:52:03.030789Z",
     "iopub.status.idle": "2023-06-17T05:52:03.050444Z",
     "shell.execute_reply": "2023-06-17T05:52:03.049350Z",
     "shell.execute_reply.started": "2023-06-17T05:52:03.031567Z"
    }
   },
   "outputs": [
    {
     "data": {
      "text/html": [
       "<div>\n",
       "<style scoped>\n",
       "    .dataframe tbody tr th:only-of-type {\n",
       "        vertical-align: middle;\n",
       "    }\n",
       "\n",
       "    .dataframe tbody tr th {\n",
       "        vertical-align: top;\n",
       "    }\n",
       "\n",
       "    .dataframe thead th {\n",
       "        text-align: right;\n",
       "    }\n",
       "</style>\n",
       "<table border=\"1\" class=\"dataframe\">\n",
       "  <thead>\n",
       "    <tr style=\"text-align: right;\">\n",
       "      <th></th>\n",
       "      <th>InvoiceNo</th>\n",
       "      <th>StockCode</th>\n",
       "      <th>Description</th>\n",
       "      <th>Quantity</th>\n",
       "      <th>InvoiceDate</th>\n",
       "      <th>UnitPrice</th>\n",
       "      <th>CustomerID</th>\n",
       "      <th>Country</th>\n",
       "      <th>customerID</th>\n",
       "      <th>email</th>\n",
       "      <th>firstname</th>\n",
       "      <th>lastname</th>\n",
       "    </tr>\n",
       "  </thead>\n",
       "  <tbody>\n",
       "    <tr>\n",
       "      <th>0</th>\n",
       "      <td>536365</td>\n",
       "      <td>85123A</td>\n",
       "      <td>WHITE HANGING HEART T-LIGHT HOLDER</td>\n",
       "      <td>6</td>\n",
       "      <td>12/1/2010 8:26</td>\n",
       "      <td>2.550000</td>\n",
       "      <td>17850.000000</td>\n",
       "      <td>United Kingdom</td>\n",
       "      <td>17850</td>\n",
       "      <td>andrea.fields@raymond.gov</td>\n",
       "      <td>Andrea</td>\n",
       "      <td>Fields</td>\n",
       "    </tr>\n",
       "    <tr>\n",
       "      <th>1</th>\n",
       "      <td>536365</td>\n",
       "      <td>71053</td>\n",
       "      <td>WHITE METAL LANTERN</td>\n",
       "      <td>6</td>\n",
       "      <td>12/1/2010 8:26</td>\n",
       "      <td>3.390000</td>\n",
       "      <td>17850.000000</td>\n",
       "      <td>United Kingdom</td>\n",
       "      <td>17850</td>\n",
       "      <td>andrea.fields@raymond.gov</td>\n",
       "      <td>Andrea</td>\n",
       "      <td>Fields</td>\n",
       "    </tr>\n",
       "  </tbody>\n",
       "</table>\n",
       "</div>"
      ],
      "text/plain": [
       "  InvoiceNo StockCode                         Description  Quantity  \\\n",
       "0    536365    85123A  WHITE HANGING HEART T-LIGHT HOLDER         6   \n",
       "1    536365     71053                 WHITE METAL LANTERN         6   \n",
       "\n",
       "      InvoiceDate  UnitPrice   CustomerID         Country  customerID  \\\n",
       "0  12/1/2010 8:26   2.550000 17850.000000  United Kingdom       17850   \n",
       "1  12/1/2010 8:26   3.390000 17850.000000  United Kingdom       17850   \n",
       "\n",
       "                       email firstname lastname  \n",
       "0  andrea.fields@raymond.gov    Andrea   Fields  \n",
       "1  andrea.fields@raymond.gov    Andrea   Fields  "
      ]
     },
     "execution_count": 6,
     "metadata": {},
     "output_type": "execute_result"
    }
   ],
   "source": [
    "# Visualizamos de nuevo para verificar que el INNER JOIN se ejecutó correctamente\n",
    "order.head(2)"
   ]
  },
  {
   "cell_type": "code",
   "execution_count": 7,
   "id": "caf9f712-0c57-45e2-9e08-481a0c1b772e",
   "metadata": {
    "execution": {
     "iopub.execute_input": "2023-06-17T05:52:03.055240Z",
     "iopub.status.busy": "2023-06-17T05:52:03.054707Z",
     "iopub.status.idle": "2023-06-17T05:52:03.162476Z",
     "shell.execute_reply": "2023-06-17T05:52:03.161453Z",
     "shell.execute_reply.started": "2023-06-17T05:52:03.055198Z"
    }
   },
   "outputs": [
    {
     "data": {
      "text/html": [
       "<div>\n",
       "<style scoped>\n",
       "    .dataframe tbody tr th:only-of-type {\n",
       "        vertical-align: middle;\n",
       "    }\n",
       "\n",
       "    .dataframe tbody tr th {\n",
       "        vertical-align: top;\n",
       "    }\n",
       "\n",
       "    .dataframe thead th {\n",
       "        text-align: right;\n",
       "    }\n",
       "</style>\n",
       "<table border=\"1\" class=\"dataframe\">\n",
       "  <thead>\n",
       "    <tr style=\"text-align: right;\">\n",
       "      <th></th>\n",
       "      <th>CustomerID</th>\n",
       "      <th>email</th>\n",
       "      <th>count</th>\n",
       "    </tr>\n",
       "  </thead>\n",
       "  <tbody>\n",
       "    <tr>\n",
       "      <th>4042</th>\n",
       "      <td>17841.000000</td>\n",
       "      <td>ronald.howard@roberts-boyer.org</td>\n",
       "      <td>7983</td>\n",
       "    </tr>\n",
       "    <tr>\n",
       "      <th>1895</th>\n",
       "      <td>14911.000000</td>\n",
       "      <td>michelle.edwards@fowler.net.br</td>\n",
       "      <td>5903</td>\n",
       "    </tr>\n",
       "    <tr>\n",
       "      <th>1300</th>\n",
       "      <td>14096.000000</td>\n",
       "      <td>jared.christian@harrison.net</td>\n",
       "      <td>5128</td>\n",
       "    </tr>\n",
       "    <tr>\n",
       "      <th>330</th>\n",
       "      <td>12748.000000</td>\n",
       "      <td>melissa.jones@parker.com</td>\n",
       "      <td>4642</td>\n",
       "    </tr>\n",
       "    <tr>\n",
       "      <th>1674</th>\n",
       "      <td>14606.000000</td>\n",
       "      <td>benjamin.farley@harding.com</td>\n",
       "      <td>2782</td>\n",
       "    </tr>\n",
       "    <tr>\n",
       "      <th>...</th>\n",
       "      <td>...</td>\n",
       "      <td>...</td>\n",
       "      <td>...</td>\n",
       "    </tr>\n",
       "    <tr>\n",
       "      <th>1318</th>\n",
       "      <td>14119.000000</td>\n",
       "      <td>keith.thomas@brown.gov.br</td>\n",
       "      <td>1</td>\n",
       "    </tr>\n",
       "    <tr>\n",
       "      <th>1046</th>\n",
       "      <td>13747.000000</td>\n",
       "      <td>michelle.stewart@page.gov</td>\n",
       "      <td>1</td>\n",
       "    </tr>\n",
       "    <tr>\n",
       "      <th>2400</th>\n",
       "      <td>15590.000000</td>\n",
       "      <td>bruce.kennedy@cantrell.com.br</td>\n",
       "      <td>1</td>\n",
       "    </tr>\n",
       "    <tr>\n",
       "      <th>2379</th>\n",
       "      <td>15562.000000</td>\n",
       "      <td>michael.fischer@bradshaw.gov</td>\n",
       "      <td>1</td>\n",
       "    </tr>\n",
       "    <tr>\n",
       "      <th>4107</th>\n",
       "      <td>17925.000000</td>\n",
       "      <td>samantha.hobbs@henderson.com</td>\n",
       "      <td>1</td>\n",
       "    </tr>\n",
       "  </tbody>\n",
       "</table>\n",
       "<p>4372 rows × 3 columns</p>\n",
       "</div>"
      ],
      "text/plain": [
       "       CustomerID                            email  count\n",
       "4042 17841.000000  ronald.howard@roberts-boyer.org   7983\n",
       "1895 14911.000000   michelle.edwards@fowler.net.br   5903\n",
       "1300 14096.000000     jared.christian@harrison.net   5128\n",
       "330  12748.000000         melissa.jones@parker.com   4642\n",
       "1674 14606.000000      benjamin.farley@harding.com   2782\n",
       "...           ...                              ...    ...\n",
       "1318 14119.000000        keith.thomas@brown.gov.br      1\n",
       "1046 13747.000000        michelle.stewart@page.gov      1\n",
       "2400 15590.000000    bruce.kennedy@cantrell.com.br      1\n",
       "2379 15562.000000     michael.fischer@bradshaw.gov      1\n",
       "4107 17925.000000     samantha.hobbs@henderson.com      1\n",
       "\n",
       "[4372 rows x 3 columns]"
      ]
     },
     "execution_count": 7,
     "metadata": {},
     "output_type": "execute_result"
    }
   ],
   "source": [
    "# Ranking compras\n",
    "(\n",
    "    order.groupby([\"CustomerID\"], as_index=False)[\"email\"]\n",
    "    .value_counts()\n",
    "    .sort_values(\"count\", ascending=False)\n",
    ")"
   ]
  },
  {
   "cell_type": "code",
   "execution_count": 8,
   "id": "161e20fd-1473-4fb5-aef0-4a9a0f013621",
   "metadata": {
    "execution": {
     "iopub.execute_input": "2023-06-17T05:52:03.164343Z",
     "iopub.status.busy": "2023-06-17T05:52:03.163882Z",
     "iopub.status.idle": "2023-06-17T05:52:03.190845Z",
     "shell.execute_reply": "2023-06-17T05:52:03.189995Z",
     "shell.execute_reply.started": "2023-06-17T05:52:03.164287Z"
    }
   },
   "outputs": [
    {
     "data": {
      "text/plain": [
       "InvoiceNo      7983\n",
       "StockCode      7983\n",
       "Description    7983\n",
       "Quantity       7983\n",
       "InvoiceDate    7983\n",
       "UnitPrice      7983\n",
       "CustomerID     7983\n",
       "Country        7983\n",
       "customerID     7983\n",
       "email          7983\n",
       "firstname      7983\n",
       "lastname       7983\n",
       "dtype: int64"
      ]
     },
     "execution_count": 8,
     "metadata": {},
     "output_type": "execute_result"
    }
   ],
   "source": [
    "# Verificamos el primero del ranking\n",
    "order.query(\"customerID == 17841\").count()"
   ]
  },
  {
   "cell_type": "markdown",
   "id": "5f3b22a3-9b9f-4df9-adb8-d6efeb55dd75",
   "metadata": {},
   "source": [
    "# Series Temporales\n",
    "\n",
    "Convertimos la columna `InvoiceDate` a un objecto datatime y añadimos otras columnas útiles para trabajar con series temporales."
   ]
  },
  {
   "cell_type": "code",
   "execution_count": 9,
   "id": "18cdb1fd-6fc9-40d6-8945-236a97e20fe2",
   "metadata": {
    "execution": {
     "iopub.execute_input": "2023-06-17T05:52:03.192434Z",
     "iopub.status.busy": "2023-06-17T05:52:03.192070Z",
     "iopub.status.idle": "2023-06-17T05:52:04.139374Z",
     "shell.execute_reply": "2023-06-17T05:52:04.137930Z",
     "shell.execute_reply.started": "2023-06-17T05:52:03.192405Z"
    }
   },
   "outputs": [],
   "source": [
    "order = (\n",
    "    order.assign(InvoceDate=pd.to_datetime(order.InvoiceDate, format=\"%m/%d/%Y %H:%M\"))\n",
    "    .assign(month=lambda x: x.InvoceDate.dt.month_name())\n",
    "    .assign(quarter=lambda x: x.InvoceDate.dt.quarter)\n",
    "    .assign(year=lambda x: x.InvoceDate.dt.year)\n",
    "    .assign(amount=lambda x: x.UnitPrice * x.Quantity)[\n",
    "        [\"month\", \"quarter\", \"year\", \"amount\"]\n",
    "    ]\n",
    ")"
   ]
  },
  {
   "cell_type": "code",
   "execution_count": 10,
   "id": "2d040918-7f11-4129-91ef-4c2fdd23f40e",
   "metadata": {
    "execution": {
     "iopub.execute_input": "2023-06-17T05:52:04.141135Z",
     "iopub.status.busy": "2023-06-17T05:52:04.140761Z",
     "iopub.status.idle": "2023-06-17T05:52:04.154520Z",
     "shell.execute_reply": "2023-06-17T05:52:04.152959Z",
     "shell.execute_reply.started": "2023-06-17T05:52:04.141107Z"
    }
   },
   "outputs": [
    {
     "data": {
      "text/html": [
       "<div>\n",
       "<style scoped>\n",
       "    .dataframe tbody tr th:only-of-type {\n",
       "        vertical-align: middle;\n",
       "    }\n",
       "\n",
       "    .dataframe tbody tr th {\n",
       "        vertical-align: top;\n",
       "    }\n",
       "\n",
       "    .dataframe thead th {\n",
       "        text-align: right;\n",
       "    }\n",
       "</style>\n",
       "<table border=\"1\" class=\"dataframe\">\n",
       "  <thead>\n",
       "    <tr style=\"text-align: right;\">\n",
       "      <th></th>\n",
       "      <th>month</th>\n",
       "      <th>quarter</th>\n",
       "      <th>year</th>\n",
       "      <th>amount</th>\n",
       "    </tr>\n",
       "  </thead>\n",
       "  <tbody>\n",
       "    <tr>\n",
       "      <th>0</th>\n",
       "      <td>December</td>\n",
       "      <td>4</td>\n",
       "      <td>2010</td>\n",
       "      <td>15.300000</td>\n",
       "    </tr>\n",
       "    <tr>\n",
       "      <th>1</th>\n",
       "      <td>December</td>\n",
       "      <td>4</td>\n",
       "      <td>2010</td>\n",
       "      <td>20.340000</td>\n",
       "    </tr>\n",
       "  </tbody>\n",
       "</table>\n",
       "</div>"
      ],
      "text/plain": [
       "      month  quarter  year    amount\n",
       "0  December        4  2010 15.300000\n",
       "1  December        4  2010 20.340000"
      ]
     },
     "execution_count": 10,
     "metadata": {},
     "output_type": "execute_result"
    }
   ],
   "source": [
    "order.head(2)"
   ]
  },
  {
   "cell_type": "code",
   "execution_count": 11,
   "id": "e150ed76-004c-46ea-8eb9-2812ff71729b",
   "metadata": {
    "execution": {
     "iopub.execute_input": "2023-06-17T05:52:04.156324Z",
     "iopub.status.busy": "2023-06-17T05:52:04.155915Z",
     "iopub.status.idle": "2023-06-17T05:52:05.193998Z",
     "shell.execute_reply": "2023-06-17T05:52:05.192721Z",
     "shell.execute_reply.started": "2023-06-17T05:52:04.156296Z"
    }
   },
   "outputs": [
    {
     "data": {
      "text/plain": [
       "<Axes: xlabel='month,year'>"
      ]
     },
     "execution_count": 11,
     "metadata": {},
     "output_type": "execute_result"
    },
    {
     "data": {
      "image/png": "[encoded data removed]",
      "text/plain": [
       "<Figure size 1000x400 with 1 Axes>"
      ]
     },
     "metadata": {},
     "output_type": "display_data"
    }
   ],
   "source": [
    "(\n",
    "    order.groupby([\"month\", \"year\"])\n",
    "    .agg(total_amount=(\"amount\", \"sum\"))\n",
    "    .sort_values([\"year\", \"month\"])\n",
    "    .plot.line(figsize=(10, 4), rot=45)\n",
    ")"
   ]
  }
 ],
 "metadata": {
  "kernelspec": {
   "display_name": "Python 3 (ipykernel)",
   "language": "python",
   "name": "python3"
  },
  "language_info": {
   "codemirror_mode": {
    "name": "ipython",
    "version": 3
   },
   "file_extension": ".py",
   "mimetype": "text/x-python",
   "name": "python",
   "nbconvert_exporter": "python",
   "pygments_lexer": "ipython3",
   "version": "3.11.4"
  }
 },
 "nbformat": 4,
 "nbformat_minor": 5
}
